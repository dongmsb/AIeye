{
  "cells": [
    {
      "cell_type": "markdown",
      "metadata": {
        "id": "OJ9kT0PC69zF"
      },
      "source": [
        "# Detecting Blindness with Deep Learning\n",
        "> Using CNNs to detect diabetic retinopathy in retina photos\n",
        "\n",
        "- toc: true\n",
        "- badges: true\n",
        "- comments: true\n",
        "- author: Nikita Kozodoi\n",
        "- categories: [python, deep learning, computer vision, competitions]\n",
        "- image: images/posts/retina.png\n",
        "- cover: images/covers/retina.jpg\n",
        "- permalink: /blog/:year:month:day/blindness-detection"
      ]
    },
    {
      "cell_type": "markdown",
      "metadata": {
        "id": "GSBinjW769zJ"
      },
      "source": [
        "*Last update: 09.06.2022. All opinions are my own.*"
      ]
    },
    {
      "cell_type": "markdown",
      "metadata": {
        "id": "OG-smpXh69zK"
      },
      "source": [
        "# 1. Overview\n",
        "\n",
        "Can deep learning help to detect blindness?\n",
        "\n",
        "This blog post describes a project that develops a convolutional neural network (CNN) for predicting the severity of the diabetic retinopathy based on the patient's retina photos. The project was completed within the scope of the [Udacity ML Engineer](https://confirm.udacity.com/LMMJDA7C) nano-degree program and the [Kaggle competition](https://www.kaggle.com/c/aptos2019-blindness-detection/data) hosted by the Asia Pacific Tele-Ophthalmology Society (APTOS).\n",
        "^\n",
        "The blog post provides a project walkthrough covering the following steps:\n",
        "- data exploration and image preprocessing to normalize images from different clinics\n",
        "- using transfer learning to pre-train CNN on a larger data set\n",
        "- employing techniques such as learning rate scheduler, test-time augmentation and others\n",
        "\n",
        "The modeling is performed in `PyTorch`. All notebooks and a PDF report are available [on Github](https://github.com/kozodoi/Udacity_Blindness_Detection)."
      ]
    },
    {
      "cell_type": "markdown",
      "metadata": {
        "id": "snIF4cEA69zK"
      },
      "source": [
        "# 2. Motivation\n",
        "\n",
        "Diabetic retinopathy (DR) is one of the leading causes of vision loss. The World Health Organization reports that more than 300 million people worldwide have diabetes (Wong et al. 2016). In 2019, the global prevalence of DR among individuals with diabetes was at more than 25% (Thomas et al. 2019). The prevalence has been rising rapidly in developing countries.\n",
        "\n",
        "Early detection and treatment are crucial steps towards preventing DR. The screening procedure requires a trained clinical expert to examine the fundus photographs of the patient's retina. This creates delays in diagnosis and treatment. This is especially relevant for developing countries, which often lack qualified medical staff to perform the diagnosis. Automated detection of DR can speed up the efficiency and coverage of the screening programs.\n",
        "\n",
        "![](https://github.com/kozodoi/website/blob/master/_notebooks/images/fig_retina.jpeg?raw=1)\n",
        "\n",
        "Image source: https://www.eyeops.com/contents/our-services/eye-diseases/diabetic-retinopathy"
      ]
    },
    {
      "cell_type": "markdown",
      "metadata": {
        "id": "cX3rD5hk69zL"
      },
      "source": []
    },
    {
      "cell_type": "markdown",
      "metadata": {
        "id": "9VG6wwS_69zL"
      },
      "source": [
        "# 3. Data preparation\n",
        "\n",
        "Data preparation is a very important step that is frequently underestimated. The quality of the input data has a strong impact on the resulting performance of the developed machine learning models. Therefore, it is crucial to take some time to look at the data and think about possible issues that should be addressed before moving on to the modeling stage. Let's do that!\n",
        "\n",
        "## Data exploration\n",
        "\n",
        "The data set is available for the download at the [competition's website](https://www.kaggle.com/c/aptos2019-blindness-detection/data). The data includes 3,662 labeled retina images of clinical patients and a test set with 1,928 images with unknown labels.\n",
        "\n",
        "The images are labeled by a clinical expert. The integer labels indicate the severity of DR on a scale from 0 to 4, where 0 indicates no disease and 5 is the proliferative stage of DR.\n",
        "\n",
        "Let's start by importing the data and looking at the class distribution."
      ]
    },
    {
      "cell_type": "code",
      "execution_count": 3,
      "metadata": {
        "colab": {
          "base_uri": "https://localhost:8080/",
          "height": 356
        },
        "id": "Z69L6RDF69zM",
        "outputId": "6ee3abdb-f0a5-4330-ad01-d1777371bd10"
      },
      "outputs": [
        {
          "output_type": "error",
          "ename": "FileNotFoundError",
          "evalue": "[Errno 2] No such file or directory: '../input/aptos2019-blindness-detection/train.csv'",
          "traceback": [
            "\u001b[0;31m---------------------------------------------------------------------------\u001b[0m",
            "\u001b[0;31mFileNotFoundError\u001b[0m                         Traceback (most recent call last)",
            "\u001b[0;32m/tmp/ipython-input-1633014351.py\u001b[0m in \u001b[0;36m<cell line: 0>\u001b[0;34m()\u001b[0m\n\u001b[1;32m     36\u001b[0m \u001b[0;34m\u001b[0m\u001b[0m\n\u001b[1;32m     37\u001b[0m \u001b[0;31m# import data\u001b[0m\u001b[0;34m\u001b[0m\u001b[0;34m\u001b[0m\u001b[0m\n\u001b[0;32m---> 38\u001b[0;31m \u001b[0mtrain\u001b[0m \u001b[0;34m=\u001b[0m \u001b[0mpd\u001b[0m\u001b[0;34m.\u001b[0m\u001b[0mread_csv\u001b[0m\u001b[0;34m(\u001b[0m\u001b[0;34m'../input/aptos2019-blindness-detection/train.csv'\u001b[0m\u001b[0;34m)\u001b[0m\u001b[0;34m\u001b[0m\u001b[0;34m\u001b[0m\u001b[0m\n\u001b[0m\u001b[1;32m     39\u001b[0m \u001b[0mtest\u001b[0m  \u001b[0;34m=\u001b[0m \u001b[0mpd\u001b[0m\u001b[0;34m.\u001b[0m\u001b[0mread_csv\u001b[0m\u001b[0;34m(\u001b[0m\u001b[0;34m'../input/aptos2019-blindness-detection/sample_submission.csv'\u001b[0m\u001b[0;34m)\u001b[0m\u001b[0;34m\u001b[0m\u001b[0;34m\u001b[0m\u001b[0m\n\u001b[1;32m     40\u001b[0m \u001b[0;34m\u001b[0m\u001b[0m\n",
            "\u001b[0;32m/usr/local/lib/python3.12/dist-packages/pandas/io/parsers/readers.py\u001b[0m in \u001b[0;36mread_csv\u001b[0;34m(filepath_or_buffer, sep, delimiter, header, names, index_col, usecols, dtype, engine, converters, true_values, false_values, skipinitialspace, skiprows, skipfooter, nrows, na_values, keep_default_na, na_filter, verbose, skip_blank_lines, parse_dates, infer_datetime_format, keep_date_col, date_parser, date_format, dayfirst, cache_dates, iterator, chunksize, compression, thousands, decimal, lineterminator, quotechar, quoting, doublequote, escapechar, comment, encoding, encoding_errors, dialect, on_bad_lines, delim_whitespace, low_memory, memory_map, float_precision, storage_options, dtype_backend)\u001b[0m\n\u001b[1;32m   1024\u001b[0m     \u001b[0mkwds\u001b[0m\u001b[0;34m.\u001b[0m\u001b[0mupdate\u001b[0m\u001b[0;34m(\u001b[0m\u001b[0mkwds_defaults\u001b[0m\u001b[0;34m)\u001b[0m\u001b[0;34m\u001b[0m\u001b[0;34m\u001b[0m\u001b[0m\n\u001b[1;32m   1025\u001b[0m \u001b[0;34m\u001b[0m\u001b[0m\n\u001b[0;32m-> 1026\u001b[0;31m     \u001b[0;32mreturn\u001b[0m \u001b[0m_read\u001b[0m\u001b[0;34m(\u001b[0m\u001b[0mfilepath_or_buffer\u001b[0m\u001b[0;34m,\u001b[0m \u001b[0mkwds\u001b[0m\u001b[0;34m)\u001b[0m\u001b[0;34m\u001b[0m\u001b[0;34m\u001b[0m\u001b[0m\n\u001b[0m\u001b[1;32m   1027\u001b[0m \u001b[0;34m\u001b[0m\u001b[0m\n\u001b[1;32m   1028\u001b[0m \u001b[0;34m\u001b[0m\u001b[0m\n",
            "\u001b[0;32m/usr/local/lib/python3.12/dist-packages/pandas/io/parsers/readers.py\u001b[0m in \u001b[0;36m_read\u001b[0;34m(filepath_or_buffer, kwds)\u001b[0m\n\u001b[1;32m    618\u001b[0m \u001b[0;34m\u001b[0m\u001b[0m\n\u001b[1;32m    619\u001b[0m     \u001b[0;31m# Create the parser.\u001b[0m\u001b[0;34m\u001b[0m\u001b[0;34m\u001b[0m\u001b[0m\n\u001b[0;32m--> 620\u001b[0;31m     \u001b[0mparser\u001b[0m \u001b[0;34m=\u001b[0m \u001b[0mTextFileReader\u001b[0m\u001b[0;34m(\u001b[0m\u001b[0mfilepath_or_buffer\u001b[0m\u001b[0;34m,\u001b[0m \u001b[0;34m**\u001b[0m\u001b[0mkwds\u001b[0m\u001b[0;34m)\u001b[0m\u001b[0;34m\u001b[0m\u001b[0;34m\u001b[0m\u001b[0m\n\u001b[0m\u001b[1;32m    621\u001b[0m \u001b[0;34m\u001b[0m\u001b[0m\n\u001b[1;32m    622\u001b[0m     \u001b[0;32mif\u001b[0m \u001b[0mchunksize\u001b[0m \u001b[0;32mor\u001b[0m \u001b[0miterator\u001b[0m\u001b[0;34m:\u001b[0m\u001b[0;34m\u001b[0m\u001b[0;34m\u001b[0m\u001b[0m\n",
            "\u001b[0;32m/usr/local/lib/python3.12/dist-packages/pandas/io/parsers/readers.py\u001b[0m in \u001b[0;36m__init__\u001b[0;34m(self, f, engine, **kwds)\u001b[0m\n\u001b[1;32m   1618\u001b[0m \u001b[0;34m\u001b[0m\u001b[0m\n\u001b[1;32m   1619\u001b[0m         \u001b[0mself\u001b[0m\u001b[0;34m.\u001b[0m\u001b[0mhandles\u001b[0m\u001b[0;34m:\u001b[0m \u001b[0mIOHandles\u001b[0m \u001b[0;34m|\u001b[0m \u001b[0;32mNone\u001b[0m \u001b[0;34m=\u001b[0m \u001b[0;32mNone\u001b[0m\u001b[0;34m\u001b[0m\u001b[0;34m\u001b[0m\u001b[0m\n\u001b[0;32m-> 1620\u001b[0;31m         \u001b[0mself\u001b[0m\u001b[0;34m.\u001b[0m\u001b[0m_engine\u001b[0m \u001b[0;34m=\u001b[0m \u001b[0mself\u001b[0m\u001b[0;34m.\u001b[0m\u001b[0m_make_engine\u001b[0m\u001b[0;34m(\u001b[0m\u001b[0mf\u001b[0m\u001b[0;34m,\u001b[0m \u001b[0mself\u001b[0m\u001b[0;34m.\u001b[0m\u001b[0mengine\u001b[0m\u001b[0;34m)\u001b[0m\u001b[0;34m\u001b[0m\u001b[0;34m\u001b[0m\u001b[0m\n\u001b[0m\u001b[1;32m   1621\u001b[0m \u001b[0;34m\u001b[0m\u001b[0m\n\u001b[1;32m   1622\u001b[0m     \u001b[0;32mdef\u001b[0m \u001b[0mclose\u001b[0m\u001b[0;34m(\u001b[0m\u001b[0mself\u001b[0m\u001b[0;34m)\u001b[0m \u001b[0;34m->\u001b[0m \u001b[0;32mNone\u001b[0m\u001b[0;34m:\u001b[0m\u001b[0;34m\u001b[0m\u001b[0;34m\u001b[0m\u001b[0m\n",
            "\u001b[0;32m/usr/local/lib/python3.12/dist-packages/pandas/io/parsers/readers.py\u001b[0m in \u001b[0;36m_make_engine\u001b[0;34m(self, f, engine)\u001b[0m\n\u001b[1;32m   1878\u001b[0m                 \u001b[0;32mif\u001b[0m \u001b[0;34m\"b\"\u001b[0m \u001b[0;32mnot\u001b[0m \u001b[0;32min\u001b[0m \u001b[0mmode\u001b[0m\u001b[0;34m:\u001b[0m\u001b[0;34m\u001b[0m\u001b[0;34m\u001b[0m\u001b[0m\n\u001b[1;32m   1879\u001b[0m                     \u001b[0mmode\u001b[0m \u001b[0;34m+=\u001b[0m \u001b[0;34m\"b\"\u001b[0m\u001b[0;34m\u001b[0m\u001b[0;34m\u001b[0m\u001b[0m\n\u001b[0;32m-> 1880\u001b[0;31m             self.handles = get_handle(\n\u001b[0m\u001b[1;32m   1881\u001b[0m                 \u001b[0mf\u001b[0m\u001b[0;34m,\u001b[0m\u001b[0;34m\u001b[0m\u001b[0;34m\u001b[0m\u001b[0m\n\u001b[1;32m   1882\u001b[0m                 \u001b[0mmode\u001b[0m\u001b[0;34m,\u001b[0m\u001b[0;34m\u001b[0m\u001b[0;34m\u001b[0m\u001b[0m\n",
            "\u001b[0;32m/usr/local/lib/python3.12/dist-packages/pandas/io/common.py\u001b[0m in \u001b[0;36mget_handle\u001b[0;34m(path_or_buf, mode, encoding, compression, memory_map, is_text, errors, storage_options)\u001b[0m\n\u001b[1;32m    871\u001b[0m         \u001b[0;32mif\u001b[0m \u001b[0mioargs\u001b[0m\u001b[0;34m.\u001b[0m\u001b[0mencoding\u001b[0m \u001b[0;32mand\u001b[0m \u001b[0;34m\"b\"\u001b[0m \u001b[0;32mnot\u001b[0m \u001b[0;32min\u001b[0m \u001b[0mioargs\u001b[0m\u001b[0;34m.\u001b[0m\u001b[0mmode\u001b[0m\u001b[0;34m:\u001b[0m\u001b[0;34m\u001b[0m\u001b[0;34m\u001b[0m\u001b[0m\n\u001b[1;32m    872\u001b[0m             \u001b[0;31m# Encoding\u001b[0m\u001b[0;34m\u001b[0m\u001b[0;34m\u001b[0m\u001b[0m\n\u001b[0;32m--> 873\u001b[0;31m             handle = open(\n\u001b[0m\u001b[1;32m    874\u001b[0m                 \u001b[0mhandle\u001b[0m\u001b[0;34m,\u001b[0m\u001b[0;34m\u001b[0m\u001b[0;34m\u001b[0m\u001b[0m\n\u001b[1;32m    875\u001b[0m                 \u001b[0mioargs\u001b[0m\u001b[0;34m.\u001b[0m\u001b[0mmode\u001b[0m\u001b[0;34m,\u001b[0m\u001b[0;34m\u001b[0m\u001b[0;34m\u001b[0m\u001b[0m\n",
            "\u001b[0;31mFileNotFoundError\u001b[0m: [Errno 2] No such file or directory: '../input/aptos2019-blindness-detection/train.csv'"
          ]
        }
      ],
      "source": [
        "#collapse-hide\n",
        "\n",
        "##### PACKAGES\n",
        "\n",
        "import numpy as np\n",
        "import pandas as pd\n",
        "\n",
        "import torch\n",
        "import torchvision\n",
        "\n",
        "from torchvision import transforms, datasets\n",
        "from torch.utils.data import Dataset\n",
        "\n",
        "from PIL import Image, ImageFile\n",
        "ImageFile.LOAD_TRUNCATED_IMAGES = True\n",
        "import cv2\n",
        "\n",
        "from tqdm import tqdm_notebook as tqdm\n",
        "\n",
        "import random\n",
        "import time\n",
        "import sys\n",
        "import os\n",
        "import math\n",
        "\n",
        "import matplotlib.pyplot as plt\n",
        "import seaborn as sns\n",
        "\n",
        "pd.set_option('display.max_columns', None)\n",
        "%matplotlib inline\n",
        "import warnings\n",
        "warnings.filterwarnings('ignore')\n",
        "\n",
        "\n",
        "##### CLASS DISTRIBUTION\n",
        "\n",
        "# import data\n",
        "train = pd.read_csv('../input/aptos2019-blindness-detection/train.csv')\n",
        "test  = pd.read_csv('../input/aptos2019-blindness-detection/sample_submission.csv')\n",
        "\n",
        "# plot\n",
        "fig = plt.figure(figsize = (15, 5))\n",
        "plt.hist(train['diagnosis'])\n",
        "plt.title('Class Distribution')\n",
        "plt.ylabel('Number of examples')\n",
        "plt.xlabel('Diagnosis')"
      ]
    },
    {
      "cell_type": "markdown",
      "metadata": {
        "id": "Dg4C1Jue69zN"
      },
      "source": [
        "The data is imbalanced: 49% images are from healthy patients. The remaining 51% are different stages of DR. The least common class is 3 (severe stage) with only 5% of the total examples.\n",
        "\n",
        "The data is collected from multiple clinics using a variety of camera models, which creates discrepancies in the image resolution, aspect ratio and other parameters. This is demonstrated in the snippet below, where we plot histograms of image width, height and aspect ratio."
      ]
    },
    {
      "cell_type": "code",
      "execution_count": 4,
      "metadata": {
        "colab": {
          "base_uri": "https://localhost:8080/",
          "height": 211
        },
        "id": "kz68Yv9X69zO",
        "outputId": "c5c64394-0f9c-4e01-85b0-2a2f7e92687f"
      },
      "outputs": [
        {
          "output_type": "error",
          "ename": "NameError",
          "evalue": "name 'train' is not defined",
          "traceback": [
            "\u001b[0;31m---------------------------------------------------------------------------\u001b[0m",
            "\u001b[0;31mNameError\u001b[0m                                 Traceback (most recent call last)",
            "\u001b[0;32m/tmp/ipython-input-923281216.py\u001b[0m in \u001b[0;36m<cell line: 0>\u001b[0;34m()\u001b[0m\n\u001b[1;32m      5\u001b[0m \u001b[0;34m\u001b[0m\u001b[0m\n\u001b[1;32m      6\u001b[0m \u001b[0;31m# import loop\u001b[0m\u001b[0;34m\u001b[0m\u001b[0;34m\u001b[0m\u001b[0m\n\u001b[0;32m----> 7\u001b[0;31m \u001b[0;32mfor\u001b[0m \u001b[0mindex\u001b[0m\u001b[0;34m,\u001b[0m \u001b[0mobservation\u001b[0m \u001b[0;32min\u001b[0m \u001b[0mtqdm\u001b[0m\u001b[0;34m(\u001b[0m\u001b[0mtrain\u001b[0m\u001b[0;34m.\u001b[0m\u001b[0miterrows\u001b[0m\u001b[0;34m(\u001b[0m\u001b[0;34m)\u001b[0m\u001b[0;34m,\u001b[0m \u001b[0mtotal\u001b[0m \u001b[0;34m=\u001b[0m \u001b[0mlen\u001b[0m\u001b[0;34m(\u001b[0m\u001b[0mtrain\u001b[0m\u001b[0;34m)\u001b[0m\u001b[0;34m)\u001b[0m\u001b[0;34m:\u001b[0m\u001b[0;34m\u001b[0m\u001b[0;34m\u001b[0m\u001b[0m\n\u001b[0m\u001b[1;32m      8\u001b[0m \u001b[0;34m\u001b[0m\u001b[0m\n\u001b[1;32m      9\u001b[0m     \u001b[0;31m# import image\u001b[0m\u001b[0;34m\u001b[0m\u001b[0;34m\u001b[0m\u001b[0m\n",
            "\u001b[0;31mNameError\u001b[0m: name 'train' is not defined"
          ]
        }
      ],
      "source": [
        "#collapse-hide\n",
        "\n",
        "# placeholder\n",
        "image_stats = []\n",
        "\n",
        "# import loop\n",
        "for index, observation in tqdm(train.iterrows(), total = len(train)):\n",
        "\n",
        "    # import image\n",
        "    img = cv2.imread('../input/aptos2019-blindness-detection/train_images/{}.png'.format(observation['id_code']))\n",
        "\n",
        "    # compute stats\n",
        "    height, width, channels = img.shape\n",
        "    ratio = width / height\n",
        "\n",
        "    # save\n",
        "    image_stats.append(np.array((observation['diagnosis'], height, width, channels, ratio)))\n",
        "\n",
        "# construct DF\n",
        "image_stats = pd.DataFrame(image_stats)\n",
        "image_stats.columns = ['diagnosis', 'height', 'width', 'channels', 'ratio']\n",
        "\n",
        "# create plot\n",
        "fig = plt.figure(figsize = (15, 5))\n",
        "\n",
        "# width\n",
        "plt.subplot(1, 3, 1)\n",
        "plt.hist(image_stats['width'])\n",
        "plt.title('(a) Image Width')\n",
        "plt.ylabel('Number of examples')\n",
        "plt.xlabel('Width')\n",
        "\n",
        "# height\n",
        "plt.subplot(1, 3, 2)\n",
        "plt.hist(image_stats['height'])\n",
        "plt.title('(b) Image Height')\n",
        "plt.ylabel('Number of examples')\n",
        "plt.xlabel('Height')\n",
        "\n",
        "# ratio\n",
        "plt.subplot(1, 3, 3)\n",
        "plt.hist(image_stats['ratio'])\n",
        "plt.title('(c) Aspect Ratio')\n",
        "plt.ylabel('Number of examples')\n",
        "plt.xlabel('Ratio')"
      ]
    },
    {
      "cell_type": "markdown",
      "metadata": {
        "id": "9VgoJU7U69zP"
      },
      "source": [
        "Now, let's look into the actual eyes! The code below creates the `EyeData` dataset class to import images. We also create a `DataLoader` object to load sample images and visualize the first batch."
      ]
    },
    {
      "cell_type": "code",
      "execution_count": null,
      "metadata": {
        "id": "Obyplxuu69zP"
      },
      "outputs": [],
      "source": [
        "#collapse-hide\n",
        "\n",
        "##### DATASET\n",
        "\n",
        "# image preprocessing\n",
        "def prepare_image(path, image_size = 256):\n",
        "\n",
        "    # import\n",
        "    image = cv2.imread(path)\n",
        "    image = cv2.cvtColor(image, cv2.COLOR_BGR2RGB)\n",
        "\n",
        "    # resize\n",
        "    image = cv2.resize(image, (int(image_size), int(image_size)))\n",
        "\n",
        "    # convert to tensor\n",
        "    image = torch.tensor(image)\n",
        "    image = image.permute(2, 1, 0)\n",
        "    return image\n",
        "\n",
        "# dataset\n",
        "class EyeData(Dataset):\n",
        "\n",
        "    # initialize\n",
        "    def __init__(self, data, directory, transform = None):\n",
        "        self.data      = data\n",
        "        self.directory = directory\n",
        "        self.transform = transform\n",
        "\n",
        "    # length\n",
        "    def __len__(self):\n",
        "        return len(self.data)\n",
        "\n",
        "    # get items\n",
        "    def __getitem__(self, idx):\n",
        "        img_name = os.path.join(self.directory, self.data.loc[idx, 'id_code'] + '.png')\n",
        "        image    = prepare_image(img_name)\n",
        "        image    = self.transform(image)\n",
        "        label    = torch.tensor(self.data.loc[idx, 'diagnosis'])\n",
        "        return {'image': image, 'label': label}\n",
        "\n",
        "\n",
        "##### EXAMINE SAMPLE BATCH\n",
        "\n",
        "# transformations\n",
        "sample_trans = transforms.Compose([transforms.ToPILImage(),\n",
        "                                   transforms.ToTensor(),\n",
        "                                  ])\n",
        "\n",
        "# dataset\n",
        "sample = EyeData(data       = train,\n",
        "                 directory  = '../input/aptos2019-blindness-detection/train_images',\n",
        "                 transform  = sample_trans)\n",
        "\n",
        "# data loader\n",
        "sample_loader = torch.utils.data.DataLoader(dataset     = sample,\n",
        "                                            batch_size  = 10,\n",
        "                                            shuffle     = False,\n",
        "                                            num_workers = 4)\n",
        "\n",
        "# display images\n",
        "for batch_i, data in enumerate(sample_loader):\n",
        "\n",
        "    # extract data\n",
        "    inputs = data['image']\n",
        "    labels = data['label'].view(-1, 1)\n",
        "\n",
        "    # create plot\n",
        "    fig = plt.figure(figsize = (15, 7))\n",
        "    for i in range(len(labels)):\n",
        "        ax = fig.add_subplot(2, len(labels)/2, i + 1, xticks = [], yticks = [])\n",
        "        plt.imshow(inputs[i].numpy().transpose(1, 2, 0))\n",
        "        ax.set_title(labels.numpy()[i])\n",
        "\n",
        "    break"
      ]
    },
    {
      "cell_type": "markdown",
      "metadata": {
        "id": "wI11WnHm69zQ"
      },
      "source": [
        "![](https://github.com/kozodoi/website/blob/master/_notebooks/images/fig_eye_example.png?raw=1)"
      ]
    },
    {
      "cell_type": "markdown",
      "metadata": {
        "id": "i6NwAnzX69zQ"
      },
      "source": [
        "The illustration further emphasizes differences in the aspect ratio and lighting conditions.\n",
        "\n",
        "The severity of DR is diagnosed by the presence of visual cues such as abnormal blood vessels, hard exudates and so-called cotton wool spots. You can read more about the diagnosing process [here](https://www.eyeops.com/contents/our-services/eye-diseases/diabetic-retinopathy). Comparing the sample images, we can see the presence of exudates and cotton wool spots on some of the retina images of sick patients.\n",
        "\n",
        "## Image preprocessing\n",
        "\n",
        "To simplify the classification task for our model, we need to ensure that retina images look similar.\n",
        "\n",
        "First, using cameras with different aspect ratios results in some images having large black areas around the eye. The black areas do not contain information relevant for prediction and can be cropped. However, the size of black areas varies from one image to another. To address this, we develop a cropping function that converts the image to grayscale and marks black areas based on the pixel intensity. Next, we find a mask of the image by selecting rows and columns in which all pixels exceed the intensity threshold. This helps to remove vertical or horizontal rectangles filled with black similar to the ones observed in the upper-right image. After removing the black stripes, we resize the images to the same height and width.\n",
        "\n",
        "Another issue is the eye shape. Depending on the image parameters, some eyes have a circular form, whereas others look like ovals. Since the size and shape of cues located in the retina determine the disease severity, it is crucial to standardize the eye shape as well. To do so, we develop another function that makes a circular crop around the center of the image.\n",
        "\n",
        "Finally, we correct for the lightning and brightness discrepancies by smoothing the images using a Gaussian filter.\n",
        "\n",
        "The snippet below provides the updated `prepare_image()` function that incorporates the discussed preprocessing steps."
      ]
    },
    {
      "cell_type": "code",
      "execution_count": 5,
      "metadata": {
        "id": "gWT0yyk-69zQ"
      },
      "outputs": [],
      "source": [
        "#collapse-show\n",
        "\n",
        "### image preprocessing function\n",
        "def prepare_image(path, sigmaX = 10, do_random_crop = False):\n",
        "\n",
        "    # import image\n",
        "    image = cv2.imread(path)\n",
        "    image = cv2.cvtColor(image, cv2.COLOR_BGR2RGB)\n",
        "\n",
        "    # perform smart crops\n",
        "    image = crop_black(image, tol = 7)\n",
        "    if do_random_crop == True:\n",
        "        image = random_crop(image, size = (0.9, 1))\n",
        "\n",
        "    # resize and color\n",
        "    image = cv2.resize(image, (int(image_size), int(image_size)))\n",
        "    image = cv2.addWeighted(image, 4, cv2.GaussianBlur(image, (0, 0), sigmaX), -4, 128)\n",
        "\n",
        "    # circular crop\n",
        "    image = circle_crop(image, sigmaX = sigmaX)\n",
        "\n",
        "    # convert to tensor\n",
        "    image = torch.tensor(image)\n",
        "    image = image.permute(2, 1, 0)\n",
        "    return image\n",
        "\n",
        "\n",
        "### automatic crop of black areas\n",
        "def crop_black(img, tol = 7):\n",
        "\n",
        "    if img.ndim == 2:\n",
        "        mask = img > tol\n",
        "        return img[np.ix_(mask.any(1),mask.any(0))]\n",
        "\n",
        "    elif img.ndim == 3:\n",
        "        gray_img = cv2.cvtColor(img, cv2.COLOR_RGB2GRAY)\n",
        "        mask = gray_img > tol\n",
        "        check_shape = img[:,:,0][np.ix_(mask.any(1),mask.any(0))].shape[0]\n",
        "\n",
        "        if (check_shape == 0):\n",
        "            return img\n",
        "        else:\n",
        "            img1 = img[:,:,0][np.ix_(mask.any(1),mask.any(0))]\n",
        "            img2 = img[:,:,1][np.ix_(mask.any(1),mask.any(0))]\n",
        "            img3 = img[:,:,2][np.ix_(mask.any(1),mask.any(0))]\n",
        "            img  = np.stack([img1, img2, img3], axis = -1)\n",
        "            return img\n",
        "\n",
        "\n",
        "### circular crop around center\n",
        "def circle_crop(img, sigmaX = 10):\n",
        "\n",
        "    height, width, depth = img.shape\n",
        "\n",
        "    largest_side = np.max((height, width))\n",
        "    img = cv2.resize(img, (largest_side, largest_side))\n",
        "\n",
        "    height, width, depth = img.shape\n",
        "\n",
        "    x = int(width / 2)\n",
        "    y = int(height / 2)\n",
        "    r = np.amin((x,y))\n",
        "\n",
        "    circle_img = np.zeros((height, width), np.uint8)\n",
        "    cv2.circle(circle_img, (x,y), int(r), 1, thickness = -1)\n",
        "\n",
        "    img = cv2.bitwise_and(img, img, mask = circle_img)\n",
        "    return img\n",
        "\n",
        "\n",
        "### random crop\n",
        "def random_crop(img, size = (0.9, 1)):\n",
        "\n",
        "    height, width, depth = img.shape\n",
        "\n",
        "    cut = 1 - random.uniform(size[0], size[1])\n",
        "\n",
        "    i = random.randint(0, int(cut * height))\n",
        "    j = random.randint(0, int(cut * width))\n",
        "    h = i + int((1 - cut) * height)\n",
        "    w = j + int((1 - cut) * width)\n",
        "\n",
        "    img = img[i:h, j:w, :]\n",
        "\n",
        "    return img"
      ]
    },
    {
      "cell_type": "markdown",
      "metadata": {
        "id": "-hraT4_A69zR"
      },
      "source": [
        "Next, we define a new `EyeData` class that uses the new processing functions and visualize a batch of sample images after corrections."
      ]
    },
    {
      "cell_type": "code",
      "execution_count": null,
      "metadata": {
        "id": "wbqYV1bW69zR"
      },
      "outputs": [],
      "source": [
        "#collapse-show\n",
        "\n",
        "##### DATASET\n",
        "\n",
        "# dataset class\n",
        "class EyeData(Dataset):\n",
        "\n",
        "    # initialize\n",
        "    def __init__(self, data, directory, transform = None):\n",
        "        self.data      = data\n",
        "        self.directory = directory\n",
        "        self.transform = transform\n",
        "\n",
        "    # length\n",
        "    def __len__(self):\n",
        "        return len(self.data)\n",
        "\n",
        "    # get items\n",
        "    def __getitem__(self, idx):\n",
        "        img_name = os.path.join(self.directory, self.data.loc[idx, 'id_code'] + '.png')\n",
        "        image    = prepare_image(img_name)\n",
        "        image    = self.transform(image)\n",
        "        label    = torch.tensor(self.data.loc[idx, 'diagnosis'])\n",
        "        return {'image': image, 'label': label}\n",
        "\n",
        "\n",
        "##### EXAMINE SAMPLE BATCH\n",
        "\n",
        "image_size = 256\n",
        "\n",
        "\n",
        "# transformations\n",
        "sample_trans = transforms.Compose([transforms.ToPILImage(),\n",
        "                                   transforms.ToTensor(),\n",
        "                                  ])\n",
        "\n",
        "# dataset\n",
        "sample = EyeData(data       = train,\n",
        "                 directory  = '../input/aptos2019-blindness-detection/train_images',\n",
        "                 transform  = sample_trans)\n",
        "\n",
        "# data loader\n",
        "sample_loader = torch.utils.data.DataLoader(dataset     = sample,\n",
        "                                            batch_size  = 10,\n",
        "                                            shuffle     = False,\n",
        "                                            num_workers = 4)\n",
        "\n",
        "# display images\n",
        "for batch_i, data in enumerate(sample_loader):\n",
        "\n",
        "    # extract data\n",
        "    inputs = data['image']\n",
        "    labels = data['label'].view(-1, 1)\n",
        "\n",
        "    # create plot\n",
        "    fig = plt.figure(figsize = (15, 7))\n",
        "    for i in range(len(labels)):\n",
        "        ax = fig.add_subplot(2, len(labels)/2, i + 1, xticks = [], yticks = [])\n",
        "        plt.imshow(inputs[i].numpy().transpose(1, 2, 0))\n",
        "        ax.set_title(labels.numpy()[i])\n",
        "\n",
        "    break"
      ]
    },
    {
      "cell_type": "markdown",
      "metadata": {
        "id": "b_pWHQGF69zR"
      },
      "source": [
        "![](https://github.com/kozodoi/website/blob/master/_notebooks/images/fig_eye_fixed.png?raw=1)"
      ]
    },
    {
      "cell_type": "markdown",
      "metadata": {
        "id": "ts_hswoU69zS"
      },
      "source": [
        "This looks much better! Comparing the retina images to the ones before the preprocessing, we can see that the apparent discrepancies between the photos are now fixed. The eyes now have a similar circular shape, and the color scheme is more consistent. This should help the model to detect the signs of the DR.\n",
        "\n",
        "Check out [this notebook](https://www.kaggle.com/ratthachat/aptos-eye-preprocessing-in-diabetic-retinopathy) by Nakhon Ratchasima for more ideas on the image preprocessing for retina photos. The functions in this project are largely inspired by his work during the competition.\n",
        "\n",
        "# 4. Modeling\n",
        "\n",
        "CNNs achieve state-of-the-art performance in computer vision tasks. Recent medical research also shows a high potential of CNNs in DR classification (Gulshan et al. 2016).\n",
        "\n",
        "In this project, we employ a CNN model with the EfficientNet architecture. [EfficientNet](https://arxiv.org/abs/1905.11946) is one of the recent state-of-the-art image classification models (Tan et al. 2019). It encompasses 8 architecture variants (B0 to B7) that differ in the model complexity and default image size.\n",
        "\n",
        "The architecture of EfficientNet B0 is visualized below. We test multiple EfficientNet architectures and use the one that demonstrates the best performance."
      ]
    },
    {
      "cell_type": "markdown",
      "metadata": {
        "id": "dS_SLRrX69zS"
      },
      "source": [
        "![](https://github.com/kozodoi/website/blob/master/_notebooks/images/fig_imagenet.png?raw=1)"
      ]
    },
    {
      "cell_type": "markdown",
      "metadata": {
        "id": "fL3z-gIX69zS"
      },
      "source": [
        "The modeling pipeline consists of three stages:\n",
        "\n",
        "- __Pre-training__. The data set has a limited number of images (N = 3,662). We pre-train the CNN model on a larger data set from the previous Kaggle competition.\n",
        "- __Fine-tuning__. We fine-tune the model on the target data set. We use cross-validation and make modeling decisions based on the performance of the out-of-fold predictions.\n",
        "- __Inference__. We aggregate predictions of the models trained on different combinations of training folds and use test-time augmentation to further improve the performance.\n",
        "\n",
        "## Pre-training\n",
        "\n",
        "Due to small sample size, we can not train a complex neural architecture from scratch. This is where transfer learning comes in handy. The idea of transfer learning is to pre-train a model on a different data (source domain) and fine-tune it on a relevant data set (target domain).\n",
        "\n",
        "A good candidate for the source domain is the [ImageNet database](http://www.image-net.org). Most published CNN models are trained on that data. However, ImageNet images are substantially different from the retina images we want to classify. Although initializing CNN with ImageNet weights might help the network to transfer the knowledge of basic image patterns such as shapes and edges, we still need to learn a lot from the target domain.\n",
        "\n",
        "It turns out that APTOS had hosted another Kaggle competition on the DR classification in 2015. The data set of the 2015 competition features 35,126 retina images labeled by a clinician using the same scale as the target data set. The data is available for the download [here](https://www.kaggle.com/c/diabetic-retinopathy-detection/data).\n",
        "\n",
        "This enables us to use following pipeline:\n",
        "- initialize weights from a CNN trained on ImageNet\n",
        "- train the CNN on the 2015 data set\n",
        "- fine-tune the CNN on the 2019 data set\n",
        "\n",
        "Let's start modeling! First, we enable GPU support and fix random seeds. The function `seed_everything()` sets seed for multiple packages, including `numpy` and `pytorch`, to ensure reproducibility."
      ]
    },
    {
      "cell_type": "code",
      "execution_count": null,
      "metadata": {
        "id": "bmxx3Ciw69zS"
      },
      "outputs": [],
      "source": [
        "#collapse-show\n",
        "\n",
        "# GPU check\n",
        "train_on_gpu = torch.cuda.is_available()\n",
        "if not train_on_gpu:\n",
        "    print('CUDA is not available. Training on CPU...')\n",
        "    device = torch.device('cpu')\n",
        "else:\n",
        "    print('CUDA is available. Training on GPU...')\n",
        "    device = torch.device('cuda:0')\n",
        "\n",
        "# set seed\n",
        "def seed_everything(seed = 23):\n",
        "    os.environ['PYTHONHASHSEED'] = str(seed)\n",
        "    random.seed(seed)\n",
        "    np.random.seed(seed)\n",
        "    torch.manual_seed(seed)\n",
        "    torch.cuda.manual_seed(seed)\n",
        "    torch.backends.cudnn.deterministic = True\n",
        "    torch.backends.cudnn.benchmark = False\n",
        "seed = 23\n",
        "seed_everything(seed)"
      ]
    },
    {
      "cell_type": "markdown",
      "metadata": {
        "id": "9pSla4N669zT"
      },
      "source": [
        "Let's take a quick look at the class distribution in the 2015 data."
      ]
    },
    {
      "cell_type": "code",
      "execution_count": 6,
      "metadata": {
        "colab": {
          "base_uri": "https://localhost:8080/",
          "height": 356
        },
        "id": "ygZTLTuO69zT",
        "outputId": "906fcba6-8269-44b4-f8c6-e5f9ffdca77d"
      },
      "outputs": [
        {
          "output_type": "error",
          "ename": "FileNotFoundError",
          "evalue": "[Errno 2] No such file or directory: '../input/diabetic-retinopathy-resized/trainLabels.csv'",
          "traceback": [
            "\u001b[0;31m---------------------------------------------------------------------------\u001b[0m",
            "\u001b[0;31mFileNotFoundError\u001b[0m                         Traceback (most recent call last)",
            "\u001b[0;32m/tmp/ipython-input-783213652.py\u001b[0m in \u001b[0;36m<cell line: 0>\u001b[0;34m()\u001b[0m\n\u001b[1;32m      2\u001b[0m \u001b[0;34m\u001b[0m\u001b[0m\n\u001b[1;32m      3\u001b[0m \u001b[0;31m# import data\u001b[0m\u001b[0;34m\u001b[0m\u001b[0;34m\u001b[0m\u001b[0m\n\u001b[0;32m----> 4\u001b[0;31m \u001b[0mtrain\u001b[0m \u001b[0;34m=\u001b[0m \u001b[0mpd\u001b[0m\u001b[0;34m.\u001b[0m\u001b[0mread_csv\u001b[0m\u001b[0;34m(\u001b[0m\u001b[0;34m'../input/diabetic-retinopathy-resized/trainLabels.csv'\u001b[0m\u001b[0;34m)\u001b[0m\u001b[0;34m\u001b[0m\u001b[0;34m\u001b[0m\u001b[0m\n\u001b[0m\u001b[1;32m      5\u001b[0m \u001b[0mtrain\u001b[0m\u001b[0;34m.\u001b[0m\u001b[0mcolumns\u001b[0m \u001b[0;34m=\u001b[0m \u001b[0;34m[\u001b[0m\u001b[0;34m'id_code'\u001b[0m\u001b[0;34m,\u001b[0m \u001b[0;34m'diagnosis'\u001b[0m\u001b[0;34m]\u001b[0m\u001b[0;34m\u001b[0m\u001b[0;34m\u001b[0m\u001b[0m\n\u001b[1;32m      6\u001b[0m \u001b[0mtest\u001b[0m \u001b[0;34m=\u001b[0m \u001b[0mpd\u001b[0m\u001b[0;34m.\u001b[0m\u001b[0mread_csv\u001b[0m\u001b[0;34m(\u001b[0m\u001b[0;34m'../input/aptos2019-blindness-detection/train.csv'\u001b[0m\u001b[0;34m)\u001b[0m\u001b[0;34m\u001b[0m\u001b[0;34m\u001b[0m\u001b[0m\n",
            "\u001b[0;32m/usr/local/lib/python3.12/dist-packages/pandas/io/parsers/readers.py\u001b[0m in \u001b[0;36mread_csv\u001b[0;34m(filepath_or_buffer, sep, delimiter, header, names, index_col, usecols, dtype, engine, converters, true_values, false_values, skipinitialspace, skiprows, skipfooter, nrows, na_values, keep_default_na, na_filter, verbose, skip_blank_lines, parse_dates, infer_datetime_format, keep_date_col, date_parser, date_format, dayfirst, cache_dates, iterator, chunksize, compression, thousands, decimal, lineterminator, quotechar, quoting, doublequote, escapechar, comment, encoding, encoding_errors, dialect, on_bad_lines, delim_whitespace, low_memory, memory_map, float_precision, storage_options, dtype_backend)\u001b[0m\n\u001b[1;32m   1024\u001b[0m     \u001b[0mkwds\u001b[0m\u001b[0;34m.\u001b[0m\u001b[0mupdate\u001b[0m\u001b[0;34m(\u001b[0m\u001b[0mkwds_defaults\u001b[0m\u001b[0;34m)\u001b[0m\u001b[0;34m\u001b[0m\u001b[0;34m\u001b[0m\u001b[0m\n\u001b[1;32m   1025\u001b[0m \u001b[0;34m\u001b[0m\u001b[0m\n\u001b[0;32m-> 1026\u001b[0;31m     \u001b[0;32mreturn\u001b[0m \u001b[0m_read\u001b[0m\u001b[0;34m(\u001b[0m\u001b[0mfilepath_or_buffer\u001b[0m\u001b[0;34m,\u001b[0m \u001b[0mkwds\u001b[0m\u001b[0;34m)\u001b[0m\u001b[0;34m\u001b[0m\u001b[0;34m\u001b[0m\u001b[0m\n\u001b[0m\u001b[1;32m   1027\u001b[0m \u001b[0;34m\u001b[0m\u001b[0m\n\u001b[1;32m   1028\u001b[0m \u001b[0;34m\u001b[0m\u001b[0m\n",
            "\u001b[0;32m/usr/local/lib/python3.12/dist-packages/pandas/io/parsers/readers.py\u001b[0m in \u001b[0;36m_read\u001b[0;34m(filepath_or_buffer, kwds)\u001b[0m\n\u001b[1;32m    618\u001b[0m \u001b[0;34m\u001b[0m\u001b[0m\n\u001b[1;32m    619\u001b[0m     \u001b[0;31m# Create the parser.\u001b[0m\u001b[0;34m\u001b[0m\u001b[0;34m\u001b[0m\u001b[0m\n\u001b[0;32m--> 620\u001b[0;31m     \u001b[0mparser\u001b[0m \u001b[0;34m=\u001b[0m \u001b[0mTextFileReader\u001b[0m\u001b[0;34m(\u001b[0m\u001b[0mfilepath_or_buffer\u001b[0m\u001b[0;34m,\u001b[0m \u001b[0;34m**\u001b[0m\u001b[0mkwds\u001b[0m\u001b[0;34m)\u001b[0m\u001b[0;34m\u001b[0m\u001b[0;34m\u001b[0m\u001b[0m\n\u001b[0m\u001b[1;32m    621\u001b[0m \u001b[0;34m\u001b[0m\u001b[0m\n\u001b[1;32m    622\u001b[0m     \u001b[0;32mif\u001b[0m \u001b[0mchunksize\u001b[0m \u001b[0;32mor\u001b[0m \u001b[0miterator\u001b[0m\u001b[0;34m:\u001b[0m\u001b[0;34m\u001b[0m\u001b[0;34m\u001b[0m\u001b[0m\n",
            "\u001b[0;32m/usr/local/lib/python3.12/dist-packages/pandas/io/parsers/readers.py\u001b[0m in \u001b[0;36m__init__\u001b[0;34m(self, f, engine, **kwds)\u001b[0m\n\u001b[1;32m   1618\u001b[0m \u001b[0;34m\u001b[0m\u001b[0m\n\u001b[1;32m   1619\u001b[0m         \u001b[0mself\u001b[0m\u001b[0;34m.\u001b[0m\u001b[0mhandles\u001b[0m\u001b[0;34m:\u001b[0m \u001b[0mIOHandles\u001b[0m \u001b[0;34m|\u001b[0m \u001b[0;32mNone\u001b[0m \u001b[0;34m=\u001b[0m \u001b[0;32mNone\u001b[0m\u001b[0;34m\u001b[0m\u001b[0;34m\u001b[0m\u001b[0m\n\u001b[0;32m-> 1620\u001b[0;31m         \u001b[0mself\u001b[0m\u001b[0;34m.\u001b[0m\u001b[0m_engine\u001b[0m \u001b[0;34m=\u001b[0m \u001b[0mself\u001b[0m\u001b[0;34m.\u001b[0m\u001b[0m_make_engine\u001b[0m\u001b[0;34m(\u001b[0m\u001b[0mf\u001b[0m\u001b[0;34m,\u001b[0m \u001b[0mself\u001b[0m\u001b[0;34m.\u001b[0m\u001b[0mengine\u001b[0m\u001b[0;34m)\u001b[0m\u001b[0;34m\u001b[0m\u001b[0;34m\u001b[0m\u001b[0m\n\u001b[0m\u001b[1;32m   1621\u001b[0m \u001b[0;34m\u001b[0m\u001b[0m\n\u001b[1;32m   1622\u001b[0m     \u001b[0;32mdef\u001b[0m \u001b[0mclose\u001b[0m\u001b[0;34m(\u001b[0m\u001b[0mself\u001b[0m\u001b[0;34m)\u001b[0m \u001b[0;34m->\u001b[0m \u001b[0;32mNone\u001b[0m\u001b[0;34m:\u001b[0m\u001b[0;34m\u001b[0m\u001b[0;34m\u001b[0m\u001b[0m\n",
            "\u001b[0;32m/usr/local/lib/python3.12/dist-packages/pandas/io/parsers/readers.py\u001b[0m in \u001b[0;36m_make_engine\u001b[0;34m(self, f, engine)\u001b[0m\n\u001b[1;32m   1878\u001b[0m                 \u001b[0;32mif\u001b[0m \u001b[0;34m\"b\"\u001b[0m \u001b[0;32mnot\u001b[0m \u001b[0;32min\u001b[0m \u001b[0mmode\u001b[0m\u001b[0;34m:\u001b[0m\u001b[0;34m\u001b[0m\u001b[0;34m\u001b[0m\u001b[0m\n\u001b[1;32m   1879\u001b[0m                     \u001b[0mmode\u001b[0m \u001b[0;34m+=\u001b[0m \u001b[0;34m\"b\"\u001b[0m\u001b[0;34m\u001b[0m\u001b[0;34m\u001b[0m\u001b[0m\n\u001b[0;32m-> 1880\u001b[0;31m             self.handles = get_handle(\n\u001b[0m\u001b[1;32m   1881\u001b[0m                 \u001b[0mf\u001b[0m\u001b[0;34m,\u001b[0m\u001b[0;34m\u001b[0m\u001b[0;34m\u001b[0m\u001b[0m\n\u001b[1;32m   1882\u001b[0m                 \u001b[0mmode\u001b[0m\u001b[0;34m,\u001b[0m\u001b[0;34m\u001b[0m\u001b[0;34m\u001b[0m\u001b[0m\n",
            "\u001b[0;32m/usr/local/lib/python3.12/dist-packages/pandas/io/common.py\u001b[0m in \u001b[0;36mget_handle\u001b[0;34m(path_or_buf, mode, encoding, compression, memory_map, is_text, errors, storage_options)\u001b[0m\n\u001b[1;32m    871\u001b[0m         \u001b[0;32mif\u001b[0m \u001b[0mioargs\u001b[0m\u001b[0;34m.\u001b[0m\u001b[0mencoding\u001b[0m \u001b[0;32mand\u001b[0m \u001b[0;34m\"b\"\u001b[0m \u001b[0;32mnot\u001b[0m \u001b[0;32min\u001b[0m \u001b[0mioargs\u001b[0m\u001b[0;34m.\u001b[0m\u001b[0mmode\u001b[0m\u001b[0;34m:\u001b[0m\u001b[0;34m\u001b[0m\u001b[0;34m\u001b[0m\u001b[0m\n\u001b[1;32m    872\u001b[0m             \u001b[0;31m# Encoding\u001b[0m\u001b[0;34m\u001b[0m\u001b[0;34m\u001b[0m\u001b[0m\n\u001b[0;32m--> 873\u001b[0;31m             handle = open(\n\u001b[0m\u001b[1;32m    874\u001b[0m                 \u001b[0mhandle\u001b[0m\u001b[0;34m,\u001b[0m\u001b[0;34m\u001b[0m\u001b[0;34m\u001b[0m\u001b[0m\n\u001b[1;32m    875\u001b[0m                 \u001b[0mioargs\u001b[0m\u001b[0;34m.\u001b[0m\u001b[0mmode\u001b[0m\u001b[0;34m,\u001b[0m\u001b[0;34m\u001b[0m\u001b[0;34m\u001b[0m\u001b[0m\n",
            "\u001b[0;31mFileNotFoundError\u001b[0m: [Errno 2] No such file or directory: '../input/diabetic-retinopathy-resized/trainLabels.csv'"
          ]
        }
      ],
      "source": [
        "#collapse-show\n",
        "\n",
        "# import data\n",
        "train = pd.read_csv('../input/diabetic-retinopathy-resized/trainLabels.csv')\n",
        "train.columns = ['id_code', 'diagnosis']\n",
        "test = pd.read_csv('../input/aptos2019-blindness-detection/train.csv')\n",
        "\n",
        "# check shape\n",
        "print(train.shape, test.shape)\n",
        "print('-' * 15)\n",
        "print(train['diagnosis'].value_counts(normalize = True))\n",
        "print('-' * 15)\n",
        "print(test['diagnosis'].value_counts(normalize = True))"
      ]
    },
    {
      "cell_type": "markdown",
      "metadata": {
        "id": "9eDCrXBm69zT"
      },
      "source": [
        "The imbalance in the source data is stronger than in the target data: 73% of images represent healthy patients, whereas the most severe stage of the DR is only found in 2% of the images. To address the imbalance, we will use the target data set as a validation sample during training.\n",
        "\n",
        "We create two `Dataset` objects to enable different augmentations on training and inference stages: `EyeTrainData` and `EyeTestData`. The former includes a random crop that is skipped for the test data."
      ]
    },
    {
      "cell_type": "code",
      "execution_count": null,
      "metadata": {
        "id": "kFj1oLH869zU"
      },
      "outputs": [],
      "source": [
        "#collapse-hide\n",
        "\n",
        "# dataset class: train\n",
        "class EyeTrainData(Dataset):\n",
        "\n",
        "    # initialize\n",
        "    def __init__(self, data, directory, transform = None):\n",
        "        self.data      = data\n",
        "        self.directory = directory\n",
        "        self.transform = transform\n",
        "\n",
        "    # length\n",
        "    def __len__(self):\n",
        "        return len(self.data)\n",
        "\n",
        "    # get items\n",
        "    def __getitem__(self, idx):\n",
        "        img_name = os.path.join(self.directory, self.data.loc[idx, 'id_code'] + '.jpeg')\n",
        "        image    = prepare_image(img_name, do_random_crop = True)\n",
        "        image    = self.transform(image)\n",
        "        label    = torch.tensor(self.data.loc[idx, 'diagnosis'])\n",
        "        return {'image': image, 'label': label}\n",
        "\n",
        "\n",
        "# dataset class: test\n",
        "class EyeTestData(Dataset):\n",
        "\n",
        "    # initialize\n",
        "    def __init__(self, data, directory, transform = None):\n",
        "        self.data      = data\n",
        "        self.directory = directory\n",
        "        self.transform = transform\n",
        "\n",
        "    # length\n",
        "    def __len__(self):\n",
        "        return len(self.data)\n",
        "\n",
        "    # get items\n",
        "    def __getitem__(self, idx):\n",
        "        img_name = os.path.join(self.directory, self.data.loc[idx, 'id_code'] + '.png')\n",
        "        image    = prepare_image(img_name, do_random_crop = False)\n",
        "        image    = self.transform(image)\n",
        "        label    = torch.tensor(self.data.loc[idx, 'diagnosis'])\n",
        "        return {'image': image, 'label': label}"
      ]
    },
    {
      "cell_type": "markdown",
      "metadata": {
        "id": "tBJ7UTt569zU"
      },
      "source": [
        "We use a batch size of 20 and set the image size of 256. The choice of these parameters is a trade-off between performance and resource capacity. Feel free to try larger image and batch sizes if you have resources.\n",
        "\n",
        "We use the following data augmentations during training:\n",
        "- random horizontal flip\n",
        "- random vertical flip\n",
        "- random rotation in the range [-360 degrees, 360 degrees]"
      ]
    },
    {
      "cell_type": "code",
      "execution_count": null,
      "metadata": {
        "id": "Ml7BSe5269zU"
      },
      "outputs": [],
      "source": [
        "#collapse-show\n",
        "\n",
        "# parameters\n",
        "batch_size = 20\n",
        "image_size = 256\n",
        "\n",
        "# train transformations\n",
        "train_trans = transforms.Compose([transforms.ToPILImage(),\n",
        "                                  transforms.RandomRotation((-360, 360)),\n",
        "                                  transforms.RandomHorizontalFlip(),\n",
        "                                  transforms.RandomVerticalFlip(),\n",
        "                                  transforms.ToTensor()\n",
        "                                 ])\n",
        "\n",
        "# validation transformations\n",
        "valid_trans = transforms.Compose([transforms.ToPILImage(),\n",
        "                                  transforms.ToTensor(),\n",
        "                                 ])\n",
        "\n",
        "# create datasets\n",
        "train_dataset = EyeTrainData(data      = train,\n",
        "                             directory = '../input/diabetic-retinopathy-resized/resized_train/resized_train',\n",
        "                             transform = train_trans)\n",
        "valid_dataset = EyeTestData(data       = test,\n",
        "                            directory  = '../input/aptos2019-blindness-detection/train_images',\n",
        "                            transform  = valid_trans)\n",
        "\n",
        "# create data loaders\n",
        "train_loader = torch.utils.data.DataLoader(train_dataset,\n",
        "                                           batch_size  = batch_size,\n",
        "                                           shuffle     = True,\n",
        "                                           num_workers = 4)\n",
        "valid_loader = torch.utils.data.DataLoader(valid_dataset,\n",
        "                                           batch_size  = batch_size,\n",
        "                                           shuffle     = False,\n",
        "                                           num_workers = 4)"
      ]
    },
    {
      "cell_type": "markdown",
      "metadata": {
        "id": "-E9VhY8C69zU"
      },
      "source": [
        "Next, let's instantiate the EfficentNet model. We use B4 architecture and initialize pre-trained ImageNet weights by downloading the model parameters in the `PyTorch` format. The convolutional part of the network responsible for feature extraction outputs a tensor with `1792` features. To adapt the CNN to our task, we replace the last fully-connected classification layer with a `(1792, 5)` fully-connected layer.\n",
        "\n",
        "The CNN is instantiated with `init_model()`. The argument `train` ensures that we load ImageNet weights on the training stage and turn off gradient computation on the inference stage."
      ]
    },
    {
      "cell_type": "code",
      "execution_count": null,
      "metadata": {
        "id": "BqyfBgFd69zV"
      },
      "outputs": [],
      "source": [
        "#collapse-show\n",
        "\n",
        "# model name\n",
        "model_name = 'enet_b4'\n",
        "\n",
        "# initialization function\n",
        "def init_model(train = True):\n",
        "\n",
        "    ### training mode\n",
        "    if train == True:\n",
        "\n",
        "        # load pre-trained model\n",
        "        model = EfficientNet.from_pretrained('efficientnet-b4', num_classes = 5)\n",
        "\n",
        "\n",
        "    ### inference mode\n",
        "    if train == False:\n",
        "\n",
        "        # load pre-trained model\n",
        "        model = EfficientNet.from_name('efficientnet-b4')\n",
        "        model._fc = nn.Linear(model._fc.in_features, 5)\n",
        "\n",
        "        # freeze  layers\n",
        "        for param in model.parameters():\n",
        "            param.requires_grad = False\n",
        "\n",
        "    return model\n",
        "\n",
        "\n",
        "# check architecture\n",
        "model = init_model()\n",
        "print(model)"
      ]
    },
    {
      "cell_type": "markdown",
      "metadata": {
        "id": "TGkYeJpQ69zV"
      },
      "source": [
        "Since we are dealing with a multiple classification problem, we use cross-entropy as a loss function. We use `nn.CrossEntropyLoss()` which combines logsoftmax and negative log-likelihood loss and applies them to the output of the last network layer.\n",
        "\n",
        "The Kaggle competition uses [Cohen's kappa](https://towardsdatascience.com/cohens-kappa-9786ceceab58) for evaluation. Kappa measures the agreement between the actual and predicted labels. Since Kappa is non-differentiable, we can not use it as a loss function. At the same time, we can use Kappa to evaluate the performance and early stop the training epochs.\n",
        "\n",
        "We use `Adam` optimizer with a starting learning rate of 0.001. During training, we use a learning rate scheduler, which multiplies the learning rate by 0.5 after every 5 epochs. This helps to make smaller changes to the network weights when we are getting closer to the optimum."
      ]
    },
    {
      "cell_type": "code",
      "execution_count": null,
      "metadata": {
        "id": "s2jDuuvQ69zV"
      },
      "outputs": [],
      "source": [
        "#collapse-show\n",
        "\n",
        "# loss function\n",
        "criterion = nn.CrossEntropyLoss()\n",
        "\n",
        "# epochs\n",
        "max_epochs = 15\n",
        "early_stop = 5\n",
        "\n",
        "# learning rates\n",
        "eta = 1e-3\n",
        "\n",
        "# scheduler\n",
        "step  = 5\n",
        "gamma = 0.5\n",
        "\n",
        "# optimizer\n",
        "optimizer = optim.Adam(model.parameters(), lr = eta)\n",
        "scheduler = lr_scheduler.StepLR(optimizer, step_size = step, gamma = gamma)\n",
        "\n",
        "# initialize model and send to GPU\n",
        "model = init_model()\n",
        "model = model.to(device)"
      ]
    },
    {
      "cell_type": "markdown",
      "metadata": {
        "id": "op7uO9uA69zW"
      },
      "source": [
        "After each training epoch, we validate the model on the target data. We extract class scores from the last fully-connected layer and predict the image class corresponding to the highest score. We train the network for 15 epochs, tracking the validation loss and Cohen's kappa. If the kappa does not increase for 5 consecutive epochs, we terminate the training process and save model weights for the epoch associated with the highest validation kappa."
      ]
    },
    {
      "cell_type": "code",
      "execution_count": null,
      "metadata": {
        "id": "tCGWxsLI69zW"
      },
      "outputs": [],
      "source": [
        "#collapse-show\n",
        "\n",
        "# placeholders\n",
        "oof_preds = np.zeros((len(test), 5))\n",
        "val_kappas = []\n",
        "val_losses = []\n",
        "trn_losses = []\n",
        "bad_epochs = 0\n",
        "\n",
        "# timer\n",
        "cv_start = time.time()\n",
        "\n",
        "# training and validation loop\n",
        "for epoch in range(max_epochs):\n",
        "\n",
        "    ##### PREPARATION\n",
        "\n",
        "    # timer\n",
        "    epoch_start = time.time()\n",
        "\n",
        "    # reset losses\n",
        "    trn_loss = 0.0\n",
        "    val_loss = 0.0\n",
        "\n",
        "    # placeholders\n",
        "    fold_preds = np.zeros((len(test), 5))\n",
        "\n",
        "\n",
        "    ##### TRAINING\n",
        "\n",
        "    # switch regime\n",
        "    model.train()\n",
        "\n",
        "    # loop through batches\n",
        "    for batch_i, data in enumerate(train_loader):\n",
        "\n",
        "        # extract inputs and labels\n",
        "        inputs = data['image']\n",
        "        labels = data['label'].view(-1)\n",
        "        inputs = inputs.to(device, dtype = torch.float)\n",
        "        labels = labels.to(device, dtype = torch.long)\n",
        "        optimizer.zero_grad()\n",
        "\n",
        "        # forward and backward pass\n",
        "        with torch.set_grad_enabled(True):\n",
        "            preds = model(inputs)\n",
        "            loss  = criterion(preds, labels)\n",
        "            loss.backward()\n",
        "            optimizer.step()\n",
        "\n",
        "        # compute loss\n",
        "        trn_loss += loss.item() * inputs.size(0)\n",
        "\n",
        "\n",
        "    ##### INFERENCE\n",
        "\n",
        "    # switch regime\n",
        "    model.eval()\n",
        "\n",
        "    # loop through batches\n",
        "    for batch_i, data in enumerate(valid_loader):\n",
        "\n",
        "        # extract inputs and labels\n",
        "        inputs = data['image']\n",
        "        labels = data['label'].view(-1)\n",
        "        inputs = inputs.to(device, dtype = torch.float)\n",
        "        labels = labels.to(device, dtype = torch.long)\n",
        "\n",
        "        # compute predictions\n",
        "        with torch.set_grad_enabled(False):\n",
        "            preds = model(inputs).detach()\n",
        "            fold_preds[batch_i * batch_size:(batch_i + 1) * batch_size, :] = preds.cpu().numpy()\n",
        "\n",
        "        # compute loss\n",
        "        loss      = criterion(preds, labels)\n",
        "        val_loss += loss.item() * inputs.size(0)\n",
        "\n",
        "    # save predictions\n",
        "    oof_preds = fold_preds\n",
        "\n",
        "    # scheduler step\n",
        "    scheduler.step()\n",
        "\n",
        "\n",
        "    ##### EVALUATION\n",
        "\n",
        "    # evaluate performance\n",
        "    fold_preds_round = fold_preds.argmax(axis = 1)\n",
        "    val_kappa = metrics.cohen_kappa_score(test['diagnosis'], fold_preds_round.astype('int'), weights = 'quadratic')\n",
        "\n",
        "    # save perfoirmance values\n",
        "    val_kappas.append(val_kappa)\n",
        "    val_losses.append(val_loss / len(test))\n",
        "    trn_losses.append(trn_loss / len(train))\n",
        "\n",
        "\n",
        "    ##### EARLY STOPPING\n",
        "\n",
        "    # display info\n",
        "    print('- epoch {}/{} | lr = {} | trn_loss = {:.4f} | val_loss = {:.4f} | val_kappa = {:.4f} | {:.2f} min'.format(\n",
        "        epoch + 1, max_epochs, scheduler.get_lr()[len(scheduler.get_lr()) - 1],\n",
        "        trn_loss / len(train), val_loss / len(test), val_kappa,\n",
        "        (time.time() - epoch_start) / 60))\n",
        "\n",
        "    # check if there is any improvement\n",
        "    if epoch > 0:\n",
        "        if val_kappas[epoch] < val_kappas[epoch - bad_epochs - 1]:\n",
        "            bad_epochs += 1\n",
        "        else:\n",
        "            bad_epochs = 0\n",
        "\n",
        "    # save model weights if improvement\n",
        "    if bad_epochs == 0:\n",
        "        oof_preds_best = oof_preds.copy()\n",
        "        torch.save(model.state_dict(), '../models/model_{}.bin'.format(model_name))\n",
        "\n",
        "    # break if early stop\n",
        "    if bad_epochs == early_stop:\n",
        "        print('Early stopping. Best results: loss = {:.4f}, kappa = {:.4f} (epoch {})'.format(\n",
        "            np.min(val_losses), val_kappas[np.argmin(val_losses)], np.argmin(val_losses) + 1))\n",
        "        print('')\n",
        "        break\n",
        "\n",
        "    # break if max epochs\n",
        "    if epoch == (max_epochs - 1):\n",
        "        print('Did not met early stopping. Best results: loss = {:.4f}, kappa = {:.4f} (epoch {})'.format(\n",
        "            np.min(val_losses), val_kappas[np.argmin(val_losses)], np.argmin(val_losses) + 1))\n",
        "        print('')\n",
        "        break\n",
        "\n",
        "# load best predictions\n",
        "oof_preds = oof_preds_best\n",
        "\n",
        "# print performance\n",
        "print('')\n",
        "print('Finished in {:.2f} minutes'.format((time.time() - cv_start) / 60))"
      ]
    },
    {
      "cell_type": "markdown",
      "metadata": {
        "id": "UV0XtbYY69zW"
      },
      "source": [
        "Training on the Kaggle GPU-enabled machine took us about 7 hours! Let's visualize the training and validation loss dynamics."
      ]
    },
    {
      "cell_type": "code",
      "execution_count": null,
      "metadata": {
        "id": "VJ7zSCOM69zW"
      },
      "outputs": [],
      "source": [
        "#collapse-show\n",
        "\n",
        "# plot size\n",
        "fig = plt.figure(figsize = (15, 5))\n",
        "\n",
        "# plot loss dynamics\n",
        "plt.subplot(1, 2, 1)\n",
        "plt.plot(trn_losses, 'red',   label = 'Training')\n",
        "plt.plot(val_losses, 'green', label = 'Validation')\n",
        "plt.xlabel('Epoch')\n",
        "plt.ylabel('Loss')\n",
        "plt.legend()\n",
        "\n",
        "# plot kappa dynamics\n",
        "plt.subplot(1, 2, 2)\n",
        "plt.plot(val_kappas, 'blue', label = 'Kappa')\n",
        "plt.xlabel('Epoch')\n",
        "plt.ylabel('Kappa')\n",
        "plt.legend()"
      ]
    },
    {
      "cell_type": "markdown",
      "metadata": {
        "id": "Po8FXi7969zX"
      },
      "source": [
        "![](https://github.com/kozodoi/website/blob/master/_notebooks/images/fig_loss_pre_training.png?raw=1)"
      ]
    },
    {
      "cell_type": "markdown",
      "metadata": {
        "id": "6W9hiqa369zX"
      },
      "source": [
        "The cross-entropy loss on the validation set reaches minimum already after 3 epochs. At the same time, kappa continues to increase up to the 15th epoch. Since we use kappa to evaluate the quality of our solution, we save weights after 15 epochs.\n",
        "\n",
        "We also construct a confusion matrix of the trained model. The numbers in the cells are percentages. According to the results, the model does a poor job in distinguishing the mild and moderate stages of DR: 86% of images with mild DR are classified as moderate. The best performance is observed for healthy patients. Overall, we see that the model tends to confuse nearby severity stages but rarely misclassifies the proliferate and mild stages."
      ]
    },
    {
      "cell_type": "markdown",
      "metadata": {
        "id": "pXKBuYVC69zX"
      },
      "source": [
        "![](https://github.com/kozodoi/website/blob/master/_notebooks/images/fig_cm_pre_training.png?raw=1)"
      ]
    },
    {
      "cell_type": "markdown",
      "metadata": {
        "id": "Uqf2NaTk69zX"
      },
      "source": [
        "## Fine-tuning"
      ]
    },
    {
      "cell_type": "markdown",
      "metadata": {
        "id": "dOjQhnXV69zd"
      },
      "source": [
        "Fine-tuning on the target data is performed within 4-fold cross-validation. To ensure that we have enough examples of each class, we perform cross-validation with stratification.\n",
        "\n",
        "On each iteration, we instantiate the EfficientNet B4 model with the same architecture as in the previous section. Next, we load the saved weights from the model pre-trained on the source data. We freeze weights on all network layers except for the last fully-connected layer. The weights in this layer are fine-tuned. As on the pre-training stage, we use `Adam` optimizer and implement a learning rate scheduler. We also track performance on the validation folds and stop training if kappa does not increase for 5 consecutive epochs.\n",
        "\n",
        "The process is repeated for each of the 4 folds, and the best model weights are saved for each combination of the training folds."
      ]
    },
    {
      "cell_type": "markdown",
      "metadata": {
        "id": "N_zf9gZY69zd"
      },
      "source": [
        "The `init_model()` is updated to load the weights saved on the pre-training stage and freeze the first layers of the network in the training regime."
      ]
    },
    {
      "cell_type": "code",
      "execution_count": null,
      "metadata": {
        "id": "I4xEzl0u69ze"
      },
      "outputs": [],
      "source": [
        "#collapse-show\n",
        "\n",
        "# model name\n",
        "model_name = 'enet_b4'\n",
        "\n",
        "# initialization function\n",
        "def init_model(train = True, trn_layers = 2):\n",
        "\n",
        "    ### training mode\n",
        "    if train == True:\n",
        "\n",
        "        # load pre-trained model\n",
        "        model = EfficientNet.from_pretrained('efficientnet-b4', num_classes = 5)\n",
        "        model.load_state_dict(torch.load('../models/model_{}.bin'.format(model_name, 1)))\n",
        "\n",
        "        # freeze first layers\n",
        "        for child in list(model.children())[:-trn_layers]:\n",
        "            for param in child.parameters():\n",
        "                param.requires_grad = False\n",
        "\n",
        "\n",
        "    ### inference mode\n",
        "    if train == False:\n",
        "\n",
        "        # load pre-trained model\n",
        "        model = EfficientNet.from_pretrained('efficientnet-b4', num_classes = 5)\n",
        "        model.load_state_dict(torch.load('../models/model_{}.bin'.format(model_name, 1)))\n",
        "\n",
        "        # freeze all layers\n",
        "        for param in model.parameters():\n",
        "            param.requires_grad = False\n",
        "\n",
        "    return model\n",
        "\n",
        "\n",
        "# check architecture\n",
        "model = init_model()"
      ]
    },
    {
      "cell_type": "markdown",
      "metadata": {
        "id": "eEEvcmrJ69ze"
      },
      "source": [
        "The training loop is now wrapped into a cross-validation loop."
      ]
    },
    {
      "cell_type": "code",
      "execution_count": null,
      "metadata": {
        "id": "rDcDI8cJ69ze"
      },
      "outputs": [],
      "source": [
        "#collapse-hide\n",
        "\n",
        "##### VALIDATION SETTINGS\n",
        "\n",
        "# no. folds\n",
        "num_folds = 4\n",
        "\n",
        "# creating splits\n",
        "skf    = StratifiedKFold(n_splits = num_folds, shuffle = True, random_state = seed)\n",
        "splits = list(skf.split(train['id_code'], train['diagnosis']))\n",
        "\n",
        "# placeholders\n",
        "oof_preds = np.zeros((len(train), 1))\n",
        "\n",
        "# timer\n",
        "cv_start = time.time()\n",
        "\n",
        "\n",
        "##### PARAMETERS\n",
        "\n",
        "# loss function\n",
        "criterion = nn.CrossEntropyLoss()\n",
        "\n",
        "# epochs\n",
        "max_epochs = 15\n",
        "early_stop = 5\n",
        "\n",
        "# learning rates\n",
        "eta = 1e-3\n",
        "\n",
        "# scheduler\n",
        "step  = 5\n",
        "gamma = 0.5\n",
        "\n",
        "\n",
        "##### CROSS-VALIDATION LOOP\n",
        "for fold in tqdm(range(num_folds)):\n",
        "\n",
        "    ####### DATA PREPARATION\n",
        "\n",
        "    # display information\n",
        "    print('-' * 30)\n",
        "    print('FOLD {}/{}'.format(fold + 1, num_folds))\n",
        "    print('-' * 30)\n",
        "\n",
        "    # load splits\n",
        "    data_train = train.iloc[splits[fold][0]].reset_index(drop = True)\n",
        "    data_valid = train.iloc[splits[fold][1]].reset_index(drop = True)\n",
        "\n",
        "    # create datasets\n",
        "    train_dataset = EyeTrainData(data      = data_train,\n",
        "                                 directory = '../input/aptos2019-blindness-detection/train_images',\n",
        "                                 transform = train_trans)\n",
        "    valid_dataset = EyeTrainData(data      = data_valid,\n",
        "                                 directory = '../input/aptos2019-blindness-detection/train_images',\n",
        "                                 transform = valid_trans)\n",
        "\n",
        "    # create data loaders\n",
        "    train_loader = torch.utils.data.DataLoader(train_dataset,\n",
        "                                               batch_size  = batch_size,\n",
        "                                               shuffle     = True,\n",
        "                                               num_workers = 4)\n",
        "    valid_loader = torch.utils.data.DataLoader(valid_dataset,\n",
        "                                               batch_size  = batch_size,\n",
        "                                               shuffle     = False,\n",
        "                                               num_workers = 4)\n",
        "\n",
        "\n",
        "    ####### MODEL PREPARATION\n",
        "\n",
        "    # placeholders\n",
        "    val_kappas = []\n",
        "    val_losses = []\n",
        "    trn_losses = []\n",
        "    bad_epochs = 0\n",
        "\n",
        "    # load best OOF predictions\n",
        "    if fold > 0:\n",
        "        oof_preds = oof_preds_best.copy()\n",
        "\n",
        "    # initialize and send to GPU\n",
        "    model = init_model(train = True)\n",
        "    model = model.to(device)\n",
        "\n",
        "    # optimizer\n",
        "    optimizer = optim.Adam(model._fc.parameters(), lr = eta)\n",
        "    scheduler = lr_scheduler.StepLR(optimizer, step_size = step, gamma = gamma)\n",
        "\n",
        "\n",
        "    ####### TRAINING AND VALIDATION LOOP\n",
        "    for epoch in range(max_epochs):\n",
        "\n",
        "        ##### PREPARATION\n",
        "\n",
        "        # timer\n",
        "        epoch_start = time.time()\n",
        "\n",
        "        # reset losses\n",
        "        trn_loss = 0.0\n",
        "        val_loss = 0.0\n",
        "\n",
        "        # placeholders\n",
        "        fold_preds = np.zeros((len(data_valid), 1))\n",
        "\n",
        "\n",
        "        ##### TRAINING\n",
        "\n",
        "        # switch regime\n",
        "        model.train()\n",
        "\n",
        "        # loop through batches\n",
        "        for batch_i, data in enumerate(train_loader):\n",
        "\n",
        "            # extract inputs and labels\n",
        "            inputs = data['image']\n",
        "            labels = data['label'].view(-1)\n",
        "            inputs = inputs.to(device, dtype = torch.float)\n",
        "            labels = labels.to(device, dtype = torch.long)\n",
        "            optimizer.zero_grad()\n",
        "\n",
        "            # forward and backward pass\n",
        "            with torch.set_grad_enabled(True):\n",
        "                preds = model(inputs)\n",
        "                loss  = criterion(preds, labels)\n",
        "                loss.backward()\n",
        "                optimizer.step()\n",
        "\n",
        "            # compute loss\n",
        "            trn_loss += loss.item() * inputs.size(0)\n",
        "\n",
        "\n",
        "        ##### INFERENCE\n",
        "\n",
        "        # initialize\n",
        "        model.eval()\n",
        "\n",
        "        # loop through batches\n",
        "        for batch_i, data in enumerate(valid_loader):\n",
        "\n",
        "            # extract inputs and labels\n",
        "            inputs = data['image']\n",
        "            labels = data['label'].view(-1)\n",
        "            inputs = inputs.to(device, dtype = torch.float)\n",
        "            labels = labels.to(device, dtype = torch.long)\n",
        "\n",
        "            # compute predictions\n",
        "            with torch.set_grad_enabled(False):\n",
        "                preds = model(inputs).detach()\n",
        "                _, class_preds = preds.topk(1)\n",
        "                fold_preds[batch_i * batch_size:(batch_i + 1) * batch_size, :] = class_preds.cpu().numpy()\n",
        "\n",
        "            # compute loss\n",
        "            loss      = criterion(preds, labels)\n",
        "            val_loss += loss.item() * inputs.size(0)\n",
        "\n",
        "        # save predictions\n",
        "        oof_preds[splits[fold][1]] = fold_preds\n",
        "\n",
        "        # scheduler step\n",
        "        scheduler.step()\n",
        "\n",
        "\n",
        "        ##### EVALUATION\n",
        "\n",
        "        # evaluate performance\n",
        "        fold_preds_round = fold_preds\n",
        "        val_kappa = metrics.cohen_kappa_score(data_valid['diagnosis'], fold_preds_round.astype('int'), weights = 'quadratic')\n",
        "\n",
        "        # save perfoirmance values\n",
        "        val_kappas.append(val_kappa)\n",
        "        val_losses.append(val_loss / len(data_valid))\n",
        "        trn_losses.append(trn_loss / len(data_train))\n",
        "\n",
        "\n",
        "        ##### EARLY STOPPING\n",
        "\n",
        "        # display info\n",
        "        print('- epoch {}/{} | lr = {} | trn_loss = {:.4f} | val_loss = {:.4f} | val_kappa = {:.4f} | {:.2f} min'.format(\n",
        "            epoch + 1, max_epochs, scheduler.get_lr()[len(scheduler.get_lr()) - 1],\n",
        "            trn_loss / len(data_train), val_loss / len(data_valid), val_kappa,\n",
        "            (time.time() - epoch_start) / 60))\n",
        "\n",
        "        # check if there is any improvement\n",
        "        if epoch > 0:\n",
        "            if val_kappas[epoch] < val_kappas[epoch - bad_epochs - 1]:\n",
        "                bad_epochs += 1\n",
        "            else:\n",
        "                bad_epochs = 0\n",
        "\n",
        "        # save model weights if improvement\n",
        "        if bad_epochs == 0:\n",
        "            oof_preds_best = oof_preds.copy()\n",
        "            torch.save(model.state_dict(), '../models/model_{}_fold{}.bin'.format(model_name, fold + 1))\n",
        "\n",
        "        # break if early stop\n",
        "        if bad_epochs == early_stop:\n",
        "            print('Early stopping. Best results: loss = {:.4f}, kappa = {:.4f} (epoch {})'.format(\n",
        "                np.min(val_losses), val_kappas[np.argmin(val_losses)], np.argmin(val_losses) + 1))\n",
        "            print('')\n",
        "            break\n",
        "\n",
        "        # break if max epochs\n",
        "        if epoch == (max_epochs - 1):\n",
        "            print('Did not meet early stopping. Best results: loss = {:.4f}, kappa = {:.4f} (epoch {})'.format(\n",
        "                np.min(val_losses), val_kappas[np.argmin(val_losses)], np.argmin(val_losses) + 1))\n",
        "            print('')\n",
        "            break\n",
        "\n",
        "# load best predictions\n",
        "oof_preds = oof_preds_best\n",
        "\n",
        "# print performance\n",
        "print('')\n",
        "print('Finished in {:.2f} minutes'.format((time.time() - cv_start) / 60))"
      ]
    },
    {
      "cell_type": "markdown",
      "metadata": {
        "id": "34qKcSlU69ze"
      },
      "source": [
        "The model converges rather quickly. The best validation performance is obtained after 3 to 7 training epochs depending on a fold.\n",
        "\n",
        "Let's look at the confusion matrix. The matrix illustrates the advantages of the fine-tuned model over the pre-trained CNN and indicates a better performance in classifying mild stages of the DR. However, we also observe that the model classifies too many examples as moderate (class = 2)."
      ]
    },
    {
      "cell_type": "code",
      "execution_count": null,
      "metadata": {
        "id": "TAIvvhrg69zf"
      },
      "outputs": [],
      "source": [
        "#collapse-hide\n",
        "\n",
        "# construct confusion matrx\n",
        "oof_preds_round = oof_preds.copy()\n",
        "cm = confusion_matrix(train['diagnosis'], oof_preds_round)\n",
        "cm = cm.astype('float') / cm.sum(axis = 1)[:, np.newaxis]\n",
        "annot = np.around(cm, 2)\n",
        "\n",
        "# plot matrix\n",
        "fig, ax = plt.subplots(figsize = (8, 6))\n",
        "sns.heatmap(cm, cmap = 'Blues', annot = annot, lw = 0.5)\n",
        "ax.set_xlabel('Prediction')\n",
        "ax.set_ylabel('Ground Truth')\n",
        "ax.set_aspect('equal')"
      ]
    },
    {
      "cell_type": "markdown",
      "metadata": {
        "id": "vXNvheSs69zf"
      },
      "source": [
        "![](https://github.com/kozodoi/website/blob/master/_notebooks/images/fig_cm_fine_tuning.png?raw=1)"
      ]
    },
    {
      "cell_type": "markdown",
      "metadata": {
        "id": "13oSP0c869zf"
      },
      "source": [
        "## Inference\n",
        "\n",
        "Let's now produce some predictions for the test set!\n",
        "\n",
        "We aggregate predictions from the models trained during the cross-validation loop. To do so, we extract class scores from the last fully-connected layer and define class predictions as the classes with the maximal score. Next, we average predictions of the 4 networks trained on different combinations of the training folds."
      ]
    },
    {
      "cell_type": "code",
      "execution_count": null,
      "metadata": {
        "id": "b3vVIEFR69zf"
      },
      "outputs": [],
      "source": [
        "#collapse-hide\n",
        "\n",
        "##### TRANSFORMATIONS\n",
        "\n",
        "# parameters\n",
        "batch_size = 25\n",
        "image_size = 256\n",
        "\n",
        "# test transformations\n",
        "test_trans = transforms.Compose([transforms.ToPILImage(),\n",
        "                                  transforms.RandomHorizontalFlip(),\n",
        "                                  transforms.RandomVerticalFlip(),\n",
        "                                  transforms.ToTensor()])\n",
        "\n",
        "\n",
        "##### DATA LOADER\n",
        "\n",
        "# create dataset\n",
        "test_dataset = EyeTestData(data      = test,\n",
        "                           directory = '../input/aptos2019-blindness-detection/test_images',\n",
        "                           transform = test_trans)\n",
        "\n",
        "# create data loader\n",
        "test_loader = torch.utils.data.DataLoader(test_dataset,\n",
        "                                          batch_size  = batch_size,\n",
        "                                          shuffle     = False,\n",
        "                                          num_workers = 4)\n",
        "\n",
        "\n",
        "##### MODEL ARCHITECTURE\n",
        "\n",
        "# model name\n",
        "model_name = 'enet_b4'\n",
        "\n",
        "# initialization function\n",
        "def init_model(train = True, trn_layers = 2):\n",
        "\n",
        "    ### training mode\n",
        "    if train == True:\n",
        "\n",
        "        # load pre-trained model\n",
        "        model = EfficientNet.from_pretrained('efficientnet-b4', num_classes = 5)\n",
        "\n",
        "        # freeze first layers\n",
        "        for child in list(model.children())[:-trn_layers]:\n",
        "            for param in child.parameters():\n",
        "                param.requires_grad = False\n",
        "\n",
        "\n",
        "    ### inference mode\n",
        "    if train == False:\n",
        "\n",
        "        # load pre-trained model\n",
        "        model = EfficientNet.from_name('efficientnet-b4')\n",
        "        model._fc = nn.Linear(model._fc.in_features, 5)\n",
        "\n",
        "        # freeze all layers\n",
        "        for param in model.parameters():\n",
        "            param.requires_grad = False\n",
        "\n",
        "\n",
        "    ### return model\n",
        "    return model\n",
        "\n",
        "\n",
        "# check architecture\n",
        "model = init_model(train = False)"
      ]
    },
    {
      "cell_type": "markdown",
      "metadata": {
        "id": "ERsGFY6R69zf"
      },
      "source": [
        "We also use test-time augmentations by creating 4 versions of the test images with random augmentations (horizontal and vertical flips) and average predictions over the image variants. The final prediction is an average of 4 models times 4 image variants."
      ]
    },
    {
      "cell_type": "code",
      "execution_count": null,
      "metadata": {
        "id": "MBsRpwU569zg"
      },
      "outputs": [],
      "source": [
        "#collapse-show\n",
        "\n",
        "# validation settings\n",
        "num_folds = 4\n",
        "tta_times = 4\n",
        "\n",
        "# placeholders\n",
        "test_preds = np.zeros((len(test), num_folds))\n",
        "cv_start   = time.time()\n",
        "\n",
        "# prediction loop\n",
        "for fold in tqdm(range(num_folds)):\n",
        "\n",
        "    # load model and sent to GPU\n",
        "    model = init_model(train = False)\n",
        "    model.load_state_dict(torch.load('../models/model_{}_fold{}.bin'.format(model_name, fold + 1)))\n",
        "    model = model.to(device)\n",
        "    model.eval()\n",
        "\n",
        "    # placeholder\n",
        "    fold_preds = np.zeros((len(test), 1))\n",
        "\n",
        "    # loop through batches\n",
        "    for _ in range(tta_times):\n",
        "        for batch_i, data in enumerate(test_loader):\n",
        "            inputs = data['image']\n",
        "            inputs = inputs.to(device, dtype = torch.float)\n",
        "            preds = model(inputs).detach()\n",
        "            _, class_preds = preds.topk(1)\n",
        "            fold_preds[batch_i * batch_size:(batch_i + 1) * batch_size, :] += class_preds.cpu().numpy()\n",
        "    fold_preds = fold_preds / tta_times\n",
        "\n",
        "    # aggregate predictions\n",
        "    test_preds[:, fold] = fold_preds.reshape(-1)\n",
        "\n",
        "# print performance\n",
        "test_preds_df = pd.DataFrame(test_preds.copy())\n",
        "print('Finished in {:.2f} minutes'.format((time.time() - cv_start) / 60))"
      ]
    },
    {
      "cell_type": "markdown",
      "metadata": {
        "id": "Xo_4Jsjz69zg"
      },
      "source": [
        "Let's have a look at the distribution of predictions:"
      ]
    },
    {
      "cell_type": "code",
      "execution_count": null,
      "metadata": {
        "id": "xdtWpyqQ69zg"
      },
      "outputs": [],
      "source": [
        "#collapse-hide\n",
        "\n",
        "# show predictions\n",
        "print('-' * 45)\n",
        "print('PREDICTIONS')\n",
        "print('-' * 45)\n",
        "print(test_preds_df.head())\n",
        "\n",
        "# show correlation\n",
        "print('-' * 45)\n",
        "print('CORRELATION MATRIX')\n",
        "print('-' * 45)\n",
        "print(np.round(test_preds_df.corr(), 4))\n",
        "print('Mean correlation = ' + str(np.round(np.mean(np.mean(test_preds_df.corr())), 4)))\n",
        "\n",
        "# show stats\n",
        "print('-' * 45)\n",
        "print('SUMMARY STATS')\n",
        "print('-' * 45)\n",
        "print(test_preds_df.describe())\n",
        "\n",
        "# show prediction distribution\n",
        "print('-' * 45)\n",
        "print('ROUNDED PREDICTIONS')\n",
        "print('-' * 45)\n",
        "for f in range(num_folds):\n",
        "    print(np.round(test_preds_df[f]).astype('int').value_counts(normalize = True))\n",
        "    print('-' * 45)\n",
        "\n",
        "# plot densities\n",
        "test_preds_df.plot.kde()"
      ]
    },
    {
      "cell_type": "markdown",
      "metadata": {
        "id": "SzmAS4M969zg"
      },
      "source": [
        "The model classifies a lot of images as moderate DR. To reduce the number of such examples, we can change thresholds used to round the averaged predictions into classes. We use the following vector of thresholds: [0.5, 1.75, 2.25, 3.5]. The final prediction is set to zero if the average value is below 0.5; set to one if the average value lies in [0.5, 1.75), etc. This reduces the share of images classified as moderate DR."
      ]
    },
    {
      "cell_type": "code",
      "execution_count": null,
      "metadata": {
        "id": "rh5qBXVS69zg"
      },
      "outputs": [],
      "source": [
        "#collapse-show\n",
        "\n",
        "# aggregate predictions\n",
        "test_preds = test_preds_df.mean(axis = 1).values\n",
        "\n",
        "# set cutoffs\n",
        "coef = [0.5, 1.75, 2.25, 3.5]\n",
        "\n",
        "# rounding\n",
        "for i, pred in enumerate(test_preds):\n",
        "    if pred < coef[0]:\n",
        "        test_preds[i] = 0\n",
        "    elif pred >= coef[0] and pred < coef[1]:\n",
        "        test_preds[i] = 1\n",
        "    elif pred >= coef[1] and pred < coef[2]:\n",
        "        test_preds[i] = 2\n",
        "    elif pred >= coef[2] and pred < coef[3]:\n",
        "        test_preds[i] = 3\n",
        "    else:\n",
        "        test_preds[i] = 4"
      ]
    },
    {
      "cell_type": "markdown",
      "metadata": {
        "id": "_hlofF_Q69zh"
      },
      "source": [
        "We are done! We can now export `test_preds` as csv and submit it to the competition."
      ]
    },
    {
      "cell_type": "markdown",
      "metadata": {
        "id": "JbyCElQK69zh"
      },
      "source": [
        "# 5. Closing words\n",
        "\n",
        "This blog post provides a complete walkthrough on the project on detecting blindness in the retina images using CNNs. We use image preprocessing to reduce discrepancies across images taken in different clinics, apply transfer learning to leverage knowledge from larger data sets and implement different techniques to improve performance.\n",
        "\n",
        "If you are still reading this post, you might be wondering about ways to further improve the solution. There are multiple options. First, employing a larger network architecture and increasing the number of training epochs on the pre-training stage has a high potential for a better performance. At the same time, this would require more computing power, which might not be optimal considering the possible use of the automated retina image classification in practice.\n",
        "\n",
        "Second, image preprocessing can be further improved. During the refinement process, the largest performance gains were attributed to different preprocessing steps. This is a more efficient way to further improve the performance.\n",
        "\n",
        "Finally, the best solutions of other competitors rely on ensembles of CNNs using different image sizes and/or architectures. Incorporating multiple heterogeneous models and blending their predictions could also improve the proposed solution. Ensembling predictions of models similar to the one discussed in this post is what helped me to place in the top 9% of the leaderboard."
      ]
    }
  ],
  "metadata": {
    "kernelspec": {
      "display_name": "Python 3",
      "language": "python",
      "name": "python3"
    },
    "language_info": {
      "codemirror_mode": {
        "name": "ipython",
        "version": 3
      },
      "file_extension": ".py",
      "mimetype": "text/x-python",
      "name": "python",
      "nbconvert_exporter": "python",
      "pygments_lexer": "ipython3",
      "version": "3.7.4"
    },
    "colab": {
      "provenance": []
    }
  },
  "nbformat": 4,
  "nbformat_minor": 0
}